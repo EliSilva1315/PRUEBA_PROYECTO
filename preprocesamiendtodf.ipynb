{
 "cells": [
  {
   "cell_type": "code",
   "execution_count": 15,
   "id": "30113092",
   "metadata": {},
   "outputs": [
    {
     "name": "stdout",
     "output_type": "stream",
     "text": [
      "Documento 1\n",
      "ID: 11542\n",
      "Texto: What's your Supreme Commander 2 build order. I don't just want \"6 mass extractors, 2 power and a factory\". List of building and units out to the second or third factory, please....\n",
      "--------------------------------------------------\n",
      "Documento 2\n",
      "ID: 89376\n",
      "Texto: You can view how many bone shards, paintings and runes you've found when you are done with your mission. Can I view how much of the items I've already found while doing the mission?...\n",
      "--------------------------------------------------\n",
      "Documento 3\n",
      "ID: 11545\n",
      "Texto: Does that mean that if no one screws up and everybody gets his daily ration, our water sources will be depleted in 2.85 more days? (The city started existing less than a day ago at 23:36.) Even if we ...\n",
      "--------------------------------------------------\n"
     ]
    }
   ],
   "source": [
    "import json\n",
    "\n",
    "# Ruta del archivo corpus.jsonl\n",
    "ruta_corpus = r\"corpus.jsonl\"\n",
    "\n",
    "# Leer los documentos\n",
    "with open(ruta_corpus, 'r', encoding='utf-8') as archivo:\n",
    "    for i, linea in enumerate(archivo):\n",
    "        documento = json.loads(linea)\n",
    "        doc_id = documento.get(\"_id\", \"\")\n",
    "        doc_text = documento.get(\"text\", \"\")\n",
    "        \n",
    "        print(f\"Documento {i+1}\")\n",
    "        print(f\"ID: {doc_id}\")\n",
    "        print(f\"Texto: {doc_text[:200]}...\")  # Mostrar primeros 200 caracteres\n",
    "        print(\"-\" * 50)\n",
    "\n",
    "        if i == 2:  # Muestra solo los 3 primeros documentos\n",
    "            break\n"
   ]
  },
  {
   "cell_type": "code",
   "execution_count": 16,
   "id": "b8e3b80d",
   "metadata": {},
   "outputs": [
    {
     "name": "stdout",
     "output_type": "stream",
     "text": [
      "Número total de documentos en el corpus: 45301\n"
     ]
    }
   ],
   "source": [
    "\n",
    "#imprime el número de documentos totales del corpus\n",
    "with open(ruta_corpus, 'r', encoding='utf-8') as archivo:\n",
    "    total_documentos = sum(1 for _ in archivo)\n",
    "print(f\"Número total de documentos en el corpus: {total_documentos}\")"
   ]
  },
  {
   "cell_type": "code",
   "execution_count": 17,
   "id": "d4a50c16",
   "metadata": {},
   "outputs": [
    {
     "name": "stdout",
     "output_type": "stream",
     "text": [
      "          _id                                              title  \\\n",
      "0       11542                 Supreme Commander 2 - Build Orders   \n",
      "1       89376  Can I see how many mission items I've found du...   \n",
      "2       11545  Our city has 40 citizens. Our well has 114 wat...   \n",
      "3       89379                How do I use rags to stop bleeding?   \n",
      "4       11549  Are there any gameplay relevant benefits of pr...   \n",
      "...       ...                                                ...   \n",
      "45296   88975           80 tabards in 80 dungeons at level 85/90   \n",
      "45297   88974                         What is a research credit?   \n",
      "45298   38341           What is the maximum level for assassins?   \n",
      "45299  103093  When you prestige, do you always start at leve...   \n",
      "45300   38346               How do I make my companions friends?   \n",
      "\n",
      "                                                    text  \\\n",
      "0      What's your Supreme Commander 2 build order. I...   \n",
      "1      You can view how many bone shards, paintings a...   \n",
      "2      Does that mean that if no one screws up and ev...   \n",
      "3      I have some clean rags that I found in a first...   \n",
      "4      I know of the extra class slots and the variou...   \n",
      "...                                                  ...   \n",
      "45296  I know you can't go to an 85 or 90 dungeon and...   \n",
      "45297  Interrogating a sectoid resulted in my earning...   \n",
      "45298  In Assassin's Creed: Revelations, what is the ...   \n",
      "45299  A friend of mine didn't realise you had to do ...   \n",
      "45300  _But you can't have more than one companion._ ...   \n",
      "\n",
      "                                     metadata  \n",
      "0           {'tags': ['supreme-commander-2']}  \n",
      "1                    {'tags': ['dishonored']}  \n",
      "2                      {'tags': ['die2nite']}  \n",
      "3                 {'tags': ['neo-scavenger']}  \n",
      "4        {'tags': ['call-of-duty-black-ops']}  \n",
      "...                                       ...  \n",
      "45296         {'tags': ['world-of-warcraft']}  \n",
      "45297        {'tags': ['xcom-enemy-unknown']}  \n",
      "45298            {'tags': ['ac-revelations']}  \n",
      "45299  {'tags': ['call-of-duty-black-ops-2']}  \n",
      "45300                    {'tags': ['skyrim']}  \n",
      "\n",
      "[45301 rows x 4 columns]\n"
     ]
    }
   ],
   "source": [
    "#imprimir documentos en un dataframe\n",
    "import pandas as pd\n",
    "# Leer el corpus y convertirlo en un DataFrame\n",
    "corpusdf= pd.read_json(ruta_corpus, lines=True)\n",
    "print(corpusdf) "
   ]
  },
  {
   "cell_type": "code",
   "execution_count": 18,
   "id": "38738b37",
   "metadata": {},
   "outputs": [
    {
     "name": "stderr",
     "output_type": "stream",
     "text": [
      "[nltk_data] Downloading package punkt to\n",
      "[nltk_data]     C:\\Users\\ELI\\AppData\\Roaming\\nltk_data...\n",
      "[nltk_data]   Package punkt is already up-to-date!\n"
     ]
    },
    {
     "name": "stdout",
     "output_type": "stream",
     "text": [
      "                                                    text  \\\n",
      "0      What's your Supreme Commander 2 build order. I...   \n",
      "1      You can view how many bone shards, paintings a...   \n",
      "2      Does that mean that if no one screws up and ev...   \n",
      "3      I have some clean rags that I found in a first...   \n",
      "4      I know of the extra class slots and the variou...   \n",
      "...                                                  ...   \n",
      "45296  I know you can't go to an 85 or 90 dungeon and...   \n",
      "45297  Interrogating a sectoid resulted in my earning...   \n",
      "45298  In Assassin's Creed: Revelations, what is the ...   \n",
      "45299  A friend of mine didn't realise you had to do ...   \n",
      "45300  _But you can't have more than one companion._ ...   \n",
      "\n",
      "                                                  tokens  \n",
      "0      [What, 's, your, Supreme, Commander, 2, build,...  \n",
      "1      [You, can, view, how, many, bone, shards, ,, p...  \n",
      "2      [Does, that, mean, that, if, no, one, screws, ...  \n",
      "3      [I, have, some, clean, rags, that, I, found, i...  \n",
      "4      [I, know, of, the, extra, class, slots, and, t...  \n",
      "...                                                  ...  \n",
      "45296  [I, know, you, ca, n't, go, to, an, 85, or, 90...  \n",
      "45297  [Interrogating, a, sectoid, resulted, in, my, ...  \n",
      "45298  [In, Assassin, 's, Creed, :, Revelations, ,, w...  \n",
      "45299  [A, friend, of, mine, did, n't, realise, you, ...  \n",
      "45300  [_But, you, ca, n't, have, more, than, one, co...  \n",
      "\n",
      "[45301 rows x 2 columns]\n"
     ]
    }
   ],
   "source": [
    "#tokenizar el corpus\n",
    "from nltk.tokenize import word_tokenize\n",
    "# Asegúrate de tener el paquete de NLTK descargado\n",
    "import nltk\n",
    "nltk.download('punkt')\n",
    "# Tokenizar el texto de cada documento\n",
    "def tokenizar_documento(texto):\n",
    "    return word_tokenize(texto)\n",
    "# Aplicar la tokenización a los documentos\n",
    "with open(ruta_corpus, 'r', encoding='utf-8') as archivo:\n",
    "    tokens = []\n",
    "    for linea in archivo:\n",
    "        documento = json.loads(linea)\n",
    "        texto = documento.get(\"text\", \"\")\n",
    "        tokens.append(tokenizar_documento(texto))\n",
    "#mostrar en el dataframe una nueva columna con los tokens por cada documento en el corpusdf\n",
    "corpusdf['tokens'] = tokens\n",
    "print(corpusdf[['text', 'tokens']])  \n",
    "\n"
   ]
  },
  {
   "cell_type": "code",
   "execution_count": 19,
   "id": "15f2d3a2",
   "metadata": {},
   "outputs": [
    {
     "name": "stdout",
     "output_type": "stream",
     "text": [
      "          _id                                              title  \\\n",
      "0       11542                 Supreme Commander 2 - Build Orders   \n",
      "1       89376  Can I see how many mission items I've found du...   \n",
      "2       11545  Our city has 40 citizens. Our well has 114 wat...   \n",
      "3       89379                How do I use rags to stop bleeding?   \n",
      "4       11549  Are there any gameplay relevant benefits of pr...   \n",
      "...       ...                                                ...   \n",
      "45296   88975           80 tabards in 80 dungeons at level 85/90   \n",
      "45297   88974                         What is a research credit?   \n",
      "45298   38341           What is the maximum level for assassins?   \n",
      "45299  103093  When you prestige, do you always start at leve...   \n",
      "45300   38346               How do I make my companions friends?   \n",
      "\n",
      "                                                    text  \\\n",
      "0      What's your Supreme Commander 2 build order. I...   \n",
      "1      You can view how many bone shards, paintings a...   \n",
      "2      Does that mean that if no one screws up and ev...   \n",
      "3      I have some clean rags that I found in a first...   \n",
      "4      I know of the extra class slots and the variou...   \n",
      "...                                                  ...   \n",
      "45296  I know you can't go to an 85 or 90 dungeon and...   \n",
      "45297  Interrogating a sectoid resulted in my earning...   \n",
      "45298  In Assassin's Creed: Revelations, what is the ...   \n",
      "45299  A friend of mine didn't realise you had to do ...   \n",
      "45300  _But you can't have more than one companion._ ...   \n",
      "\n",
      "                                     metadata  \\\n",
      "0           {'tags': ['supreme-commander-2']}   \n",
      "1                    {'tags': ['dishonored']}   \n",
      "2                      {'tags': ['die2nite']}   \n",
      "3                 {'tags': ['neo-scavenger']}   \n",
      "4        {'tags': ['call-of-duty-black-ops']}   \n",
      "...                                       ...   \n",
      "45296         {'tags': ['world-of-warcraft']}   \n",
      "45297        {'tags': ['xcom-enemy-unknown']}   \n",
      "45298            {'tags': ['ac-revelations']}   \n",
      "45299  {'tags': ['call-of-duty-black-ops-2']}   \n",
      "45300                    {'tags': ['skyrim']}   \n",
      "\n",
      "                                                  tokens  \\\n",
      "0      [What, 's, your, Supreme, Commander, 2, build,...   \n",
      "1      [You, can, view, how, many, bone, shards, ,, p...   \n",
      "2      [Does, that, mean, that, if, no, one, screws, ...   \n",
      "3      [I, have, some, clean, rags, that, I, found, i...   \n",
      "4      [I, know, of, the, extra, class, slots, and, t...   \n",
      "...                                                  ...   \n",
      "45296  [I, know, you, ca, n't, go, to, an, 85, or, 90...   \n",
      "45297  [Interrogating, a, sectoid, resulted, in, my, ...   \n",
      "45298  [In, Assassin, 's, Creed, :, Revelations, ,, w...   \n",
      "45299  [A, friend, of, mine, did, n't, realise, you, ...   \n",
      "45300  [_But, you, ca, n't, have, more, than, one, co...   \n",
      "\n",
      "                                            regex_tokens  \n",
      "0      [what, your, supreme, commander, build, order,...  \n",
      "1      [you, can, view, how, many, bone, shards, pain...  \n",
      "2      [does, that, mean, that, if, no, one, screws, ...  \n",
      "3      [have, some, clean, rags, that, found, in, fir...  \n",
      "4      [know, of, the, extra, class, slots, and, the,...  \n",
      "...                                                  ...  \n",
      "45296  [know, you, can, go, to, an, or, dungeon, and,...  \n",
      "45297  [interrogating, sectoid, resulted, in, my, ear...  \n",
      "45298  [in, assassin, creed, revelations, what, is, t...  \n",
      "45299  [friend, of, mine, didn, realise, you, had, to...  \n",
      "45300  [_but, you, can, have, more, than, one, compan...  \n",
      "\n",
      "[45301 rows x 6 columns]\n"
     ]
    }
   ],
   "source": [
    "#usando regex_tokenize de nltk\n",
    "from nltk.tokenize import regexp_tokenize\n",
    "corpusdf['regex_tokens'] = corpusdf['text'].str.lower().apply(regexp_tokenize, pattern=r'\\w[a-z]+')\n",
    "print(corpusdf)"
   ]
  },
  {
   "cell_type": "code",
   "execution_count": 20,
   "id": "94797eb4",
   "metadata": {},
   "outputs": [
    {
     "name": "stderr",
     "output_type": "stream",
     "text": [
      "[nltk_data] Downloading package stopwords to\n",
      "[nltk_data]     C:\\Users\\ELI\\AppData\\Roaming\\nltk_data...\n",
      "[nltk_data]   Package stopwords is already up-to-date!\n"
     ]
    }
   ],
   "source": [
    "from nltk.corpus import stopwords\n",
    "nltk.download('stopwords')\n",
    "def remove_stopwords(tokens):\n",
    "    sw = set(stopwords.words('english'))\n",
    "    for w in sw:\n",
    "            try:\n",
    "                tokens.remove(w)\n",
    "            except ValueError:\n",
    "                pass\n",
    "    return tokens"
   ]
  },
  {
   "cell_type": "code",
   "execution_count": null,
   "id": "042c8b3d",
   "metadata": {},
   "outputs": [],
   "source": [
    "corpusdf['sw_tokens'] = corpusdf['regex_tokens'].apply(remove_stopwords)"
   ]
  },
  {
   "cell_type": "code",
   "execution_count": null,
   "id": "7feeacdc",
   "metadata": {},
   "outputs": [],
   "source": [
    "print(corpusdf)"
   ]
  },
  {
   "cell_type": "code",
   "execution_count": null,
   "id": "46647582",
   "metadata": {},
   "outputs": [],
   "source": [
    "from nltk.stem import WordNetLemmatizer as wnl\n",
    "nltk.download('wordnet')\n"
   ]
  },
  {
   "cell_type": "code",
   "execution_count": null,
   "id": "bb6fbfa9",
   "metadata": {},
   "outputs": [],
   "source": [
    "def lemmatized(tokens):\n",
    "    return [wnl().lemmatize(t) for t in tokens]"
   ]
  },
  {
   "cell_type": "code",
   "execution_count": null,
   "id": "d772a841",
   "metadata": {},
   "outputs": [],
   "source": [
    "corpusdf['lem_tokens'] = corpusdf['sw_tokens'].apply(lemmatized)"
   ]
  },
  {
   "cell_type": "code",
   "execution_count": null,
   "id": "096b0a33",
   "metadata": {},
   "outputs": [],
   "source": [
    "print(corpusdf)"
   ]
  },
  {
   "cell_type": "code",
   "execution_count": null,
   "id": "0627323d",
   "metadata": {},
   "outputs": [],
   "source": [
    "corpusdf['preprocesado'] = corpusdf['lem_tokens'].str.join(' ')"
   ]
  },
  {
   "cell_type": "code",
   "execution_count": null,
   "id": "be86024b",
   "metadata": {},
   "outputs": [],
   "source": [
    "print(corpusdf[['text', 'preprocesado']])"
   ]
  }
 ],
 "metadata": {
  "kernelspec": {
   "display_name": "Python 3",
   "language": "python",
   "name": "python3"
  },
  "language_info": {
   "codemirror_mode": {
    "name": "ipython",
    "version": 3
   },
   "file_extension": ".py",
   "mimetype": "text/x-python",
   "name": "python",
   "nbconvert_exporter": "python",
   "pygments_lexer": "ipython3",
   "version": "3.13.3"
  }
 },
 "nbformat": 4,
 "nbformat_minor": 5
}
