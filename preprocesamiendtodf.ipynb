{
 "cells": [
  {
   "cell_type": "code",
   "execution_count": null,
   "id": "30113092",
   "metadata": {},
   "outputs": [],
   "source": [
    "import json\n",
    "\n",
    "# Ruta del archivo corpus.jsonl\n",
    "ruta_corpus = r\"gaming/corpus.jsonl\"\n",
    "\n",
    "# Leer los documentos\n",
    "with open(ruta_corpus, 'r', encoding='utf-8') as archivo:\n",
    "    for i, linea in enumerate(archivo):\n",
    "        documento = json.loads(linea)\n",
    "        doc_id = documento.get(\"_id\", \"\")\n",
    "        doc_text = documento.get(\"text\", \"\")\n",
    "        \n",
    "        print(f\"Documento {i+1}\")\n",
    "        print(f\"ID: {doc_id}\")\n",
    "        print(f\"Texto: {doc_text[:200]}...\")  # Mostrar primeros 200 caracteres\n",
    "        print(\"-\" * 50)\n",
    "\n",
    "        if i == 2:  # Muestra solo los 3 primeros documentos\n",
    "            break\n"
   ]
  },
  {
   "cell_type": "code",
   "execution_count": null,
   "id": "b8e3b80d",
   "metadata": {},
   "outputs": [],
   "source": [
    "\n",
    "#imprime el número de documentos totales del corpus\n",
    "with open(ruta_corpus, 'r', encoding='utf-8') as archivo:\n",
    "    total_documentos = sum(1 for _ in archivo)\n",
    "print(f\"Número total de documentos en el corpus: {total_documentos}\")"
   ]
  },
  {
   "cell_type": "code",
   "execution_count": null,
   "id": "d4a50c16",
   "metadata": {},
   "outputs": [],
   "source": [
    "#imprimir documentos en un dataframe\n",
    "import pandas as pd\n",
    "# Leer el corpus y convertirlo en un DataFrame\n",
    "corpusdf= pd.read_json(ruta_corpus, lines=True)\n",
    "print(corpusdf) "
   ]
  },
  {
   "cell_type": "code",
   "execution_count": null,
   "id": "38738b37",
   "metadata": {},
   "outputs": [],
   "source": [
    "#tokenizar el corpus\n",
    "from nltk.tokenize import word_tokenize\n",
    "# Asegúrate de tener el paquete de NLTK descargado\n",
    "import nltk\n",
    "nltk.download('punkt')\n",
    "# Tokenizar el texto de cada documento\n",
    "def tokenizar_documento(texto):\n",
    "    return word_tokenize(texto)\n",
    "# Aplicar la tokenización a los documentos\n",
    "with open(ruta_corpus, 'r', encoding='utf-8') as archivo:\n",
    "    tokens = []\n",
    "    for linea in archivo:\n",
    "        documento = json.loads(linea)\n",
    "        texto = documento.get(\"text\", \"\")\n",
    "        tokens.append(tokenizar_documento(texto))\n",
    "#mostrar en el dataframe una nueva columna con los tokens por cada documento en el corpusdf\n",
    "corpusdf['tokens'] = tokens\n",
    "print(corpusdf[['text', 'tokens']])  \n",
    "\n"
   ]
  },
  {
   "cell_type": "code",
   "execution_count": null,
   "id": "15f2d3a2",
   "metadata": {},
   "outputs": [],
   "source": [
    "#usando regex_tokenize de nltk\n",
    "from nltk.tokenize import regexp_tokenize\n",
    "corpusdf['regex_tokens'] = corpusdf['text'].str.lower().apply(regexp_tokenize, pattern=r'\\w[a-z]+')\n",
    "print(corpusdf)"
   ]
  },
  {
   "cell_type": "code",
   "execution_count": null,
   "id": "94797eb4",
   "metadata": {},
   "outputs": [],
   "source": [
    "from nltk.corpus import stopwords\n",
    "nltk.download('stopwords')\n",
    "def remove_stopwords(tokens):\n",
    "    sw = set(stopwords.words('english'))\n",
    "    for w in sw:\n",
    "            try:\n",
    "                tokens.remove(w)\n",
    "            except ValueError:\n",
    "                pass\n",
    "    return tokens"
   ]
  },
  {
   "cell_type": "code",
   "execution_count": null,
   "id": "042c8b3d",
   "metadata": {},
   "outputs": [],
   "source": [
    "corpusdf['sw_tokens'] = corpusdf['regex_tokens'].apply(remove_stopwords)"
   ]
  },
  {
   "cell_type": "code",
   "execution_count": null,
   "id": "7feeacdc",
   "metadata": {},
   "outputs": [],
   "source": [
    "print(corpusdf)"
   ]
  },
  {
   "cell_type": "code",
   "execution_count": null,
   "id": "46647582",
   "metadata": {},
   "outputs": [],
   "source": [
    "from nltk.stem import WordNetLemmatizer as wnl\n",
    "nltk.download('wordnet')\n"
   ]
  },
  {
   "cell_type": "code",
   "execution_count": null,
   "id": "bb6fbfa9",
   "metadata": {},
   "outputs": [],
   "source": [
    "def lemmatized(tokens):\n",
    "    return [wnl().lemmatize(t) for t in tokens]"
   ]
  },
  {
   "cell_type": "code",
   "execution_count": null,
   "id": "d772a841",
   "metadata": {},
   "outputs": [],
   "source": [
    "corpusdf['lem_tokens'] = corpusdf['sw_tokens'].apply(lemmatized)"
   ]
  },
  {
   "cell_type": "code",
   "execution_count": null,
   "id": "096b0a33",
   "metadata": {},
   "outputs": [],
   "source": [
    "print(corpusdf)"
   ]
  },
  {
   "cell_type": "code",
   "execution_count": null,
   "id": "0627323d",
   "metadata": {},
   "outputs": [],
   "source": [
    "corpusdf['preprocesado'] = corpusdf['lem_tokens'].str.join(' ')"
   ]
  },
  {
   "cell_type": "code",
   "execution_count": null,
   "id": "be86024b",
   "metadata": {},
   "outputs": [],
   "source": [
    "print(corpusdf[['text', 'preprocesado']])"
   ]
  }
 ],
 "metadata": {
  "kernelspec": {
   "display_name": "Python 3",
   "language": "python",
   "name": "python3"
  },
  "language_info": {
   "codemirror_mode": {
    "name": "ipython",
    "version": 3
   },
   "file_extension": ".py",
   "mimetype": "text/x-python",
   "name": "python",
   "nbconvert_exporter": "python",
   "pygments_lexer": "ipython3",
   "version": "3.13.3"
  }
 },
 "nbformat": 4,
 "nbformat_minor": 5
}
